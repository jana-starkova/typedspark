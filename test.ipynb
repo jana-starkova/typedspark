{
 "cells": [
  {
   "cell_type": "code",
   "execution_count": 19,
   "metadata": {},
   "outputs": [],
   "source": [
    "import datetime\n",
    "from pyspark.sql import SparkSession\n",
    "from pyspark.sql.types import DayTimeIntervalType, StructField, StructType\n",
    "\n",
    "\n",
    "spark = SparkSession.builder.getOrCreate()\n",
    "\n",
    "spark.createDataFrame(\n",
    "    [\n",
    "        (datetime.timedelta(days=1, hours=2, minutes=3, seconds=4), )\n",
    "    ],\n",
    "    schema=StructType([StructField(\"diff\", DayTimeIntervalType())])\n",
    ")"
   ]
  },
  {
   "cell_type": "code",
   "execution_count": null,
   "metadata": {},
   "outputs": [],
   "source": []
  }
 ],
 "metadata": {
  "language_info": {
   "name": "python"
  },
  "orig_nbformat": 4
 },
 "nbformat": 4,
 "nbformat_minor": 2
}
