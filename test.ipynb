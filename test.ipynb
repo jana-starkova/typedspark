{
 "cells": [
  {
   "cell_type": "code",
   "execution_count": 7,
   "metadata": {},
   "outputs": [
    {
     "name": "stdout",
     "output_type": "stream",
     "text": [
      "+---------------+\n",
      "|      value_bla|\n",
      "+---------------+\n",
      "|{a, null, null}|\n",
      "|{a, null, null}|\n",
      "|{b, null, null}|\n",
      "|{b, null, null}|\n",
      "+---------------+\n",
      "\n"
     ]
    }
   ],
   "source": [
    "from pyspark.sql import SparkSession\n",
    "from pyspark.sql.functions import first\n",
    "from pyspark.sql.types import IntegerType, StringType\n",
    "from typedspark import Column, Schema, create_partially_filled_dataset\n",
    "from typedspark._core.datatypes import StructType\n",
    "\n",
    "spark = SparkSession.builder.getOrCreate()\n",
    "\n",
    "class A(Schema):\n",
    "    a: Column[StringType]\n",
    "    b: Column[IntegerType]\n",
    "    c: Column[StringType]\n",
    "\n",
    "class B(Schema):\n",
    "    value_bla: Column[StructType[A]]\n",
    "\n",
    "df = (\n",
    "    create_partially_filled_dataset(\n",
    "        spark, \n",
    "        B, \n",
    "        {\n",
    "            B.value_bla: create_partially_filled_dataset(\n",
    "                spark,\n",
    "                B.value_bla.dtype.schema,\n",
    "                {\n",
    "                    B.value_bla.dtype.schema.a: [\"a\", \"a\", \"b\", \"b\"],\n",
    "                }\n",
    "            ).collect(),\n",
    "        }\n",
    "    )\n",
    ")\n",
    "\n",
    "df.show()"
   ]
  },
  {
   "cell_type": "code",
   "execution_count": 8,
   "metadata": {},
   "outputs": [
    {
     "data": {
      "text/plain": [
       "\n",
       "from pyspark.sql.types import IntegerType, StringType\n",
       "\n",
       "from typedspark import Column, Schema, StructType\n",
       "\n",
       "\n",
       "class A(Schema):\n",
       "    value_bla: Column[StructType[ValueBla]]"
      ]
     },
     "execution_count": 8,
     "metadata": {},
     "output_type": "execute_result"
    }
   ],
   "source": [
    "from typedspark._utils.load_table import create_schema\n",
    "\n",
    "\n",
    "df, MySchema = create_schema(df, \"A\")\n",
    "\n",
    "MySchema"
   ]
  },
  {
   "cell_type": "code",
   "execution_count": 9,
   "metadata": {},
   "outputs": [
    {
     "data": {
      "text/plain": [
       "\n",
       "from pyspark.sql.types import IntegerType, StringType\n",
       "\n",
       "from typedspark import Column, Schema\n",
       "\n",
       "\n",
       "class ValueBla(Schema):\n",
       "    a: Column[StringType]\n",
       "    b: Column[IntegerType]\n",
       "    c: Column[StringType]"
      ]
     },
     "execution_count": 9,
     "metadata": {},
     "output_type": "execute_result"
    }
   ],
   "source": [
    "MySchema.value_bla.dtype.schema"
   ]
  },
  {
   "cell_type": "code",
   "execution_count": null,
   "metadata": {},
   "outputs": [],
   "source": []
  }
 ],
 "metadata": {
  "kernelspec": {
   "display_name": "typedspark",
   "language": "python",
   "name": "python3"
  },
  "language_info": {
   "codemirror_mode": {
    "name": "ipython",
    "version": 3
   },
   "file_extension": ".py",
   "mimetype": "text/x-python",
   "name": "python",
   "nbconvert_exporter": "python",
   "pygments_lexer": "ipython3",
   "version": "3.9.16"
  },
  "orig_nbformat": 4
 },
 "nbformat": 4,
 "nbformat_minor": 2
}
