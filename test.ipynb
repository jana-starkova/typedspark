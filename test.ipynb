{
 "cells": [
  {
   "cell_type": "code",
   "execution_count": 3,
   "metadata": {},
   "outputs": [],
   "source": [
    "\"\"\"Module containing classes and functions related to TypedSpark Schemas.\"\"\"\n",
    "import inspect\n",
    "import re\n",
    "from typing import Any, Dict, List, Optional, Type, Union, get_args, get_type_hints\n",
    "\n",
    "from pyspark.sql import DataFrame\n",
    "from pyspark.sql.types import DataType, StructType\n",
    "\n",
    "from typedspark._core.column import Column\n",
    "from typedspark._schema.dlt_kwargs import DltKwargs\n",
    "from typedspark._schema.get_schema_definition import get_schema_definition_as_string\n",
    "from typedspark._schema.structfield import get_structfield\n",
    "\n",
    "\n",
    "class MetaSchema(type):\n",
    "    \"\"\"``MetaSchema`` is the metaclass of ``Schema``.\n",
    "\n",
    "    It basically implements all functionality of ``Schema``. But since\n",
    "    classes are typically considered more convenient than metaclasses,\n",
    "    we provide ``Schema`` as the public interface.\n",
    "\n",
    "    .. code-block:: python\n",
    "\n",
    "        class A(Schema):\n",
    "            a: Column[IntegerType]\n",
    "            b: Column[StringType]\n",
    "\n",
    "        DataSet[A](df)\n",
    "\n",
    "    The class methods of ``Schema`` are described here.\n",
    "    \"\"\"\n",
    "\n",
    "    _parent: Optional[Union[DataFrame, Column]] = None\n",
    "    _current_id: Optional[int] = None\n",
    "    _original_name: Optional[str] = None\n",
    "\n",
    "    def __new__(cls, name: str, bases: Any, dct: Dict[str, Any]):\n",
    "        cls._attributes = dir(cls)\n",
    "\n",
    "        # initializes all uninitialied variables with a type annotation as None\n",
    "        # this allows for auto-complete in Databricks notebooks (uninitialized variables\n",
    "        # don't show up in auto-complete there).\n",
    "        if \"__annotations__\" in dct.keys():\n",
    "            extra = {attr: None for attr in dct[\"__annotations__\"] if attr not in dct}\n",
    "            dct = dict(dct, **extra)\n",
    "\n",
    "        return type.__new__(cls, name, bases, dct)\n",
    "\n",
    "    def __repr__(cls) -> str:\n",
    "        return f\"\\n{str(cls)}\"\n",
    "\n",
    "    def __str__(cls) -> str:\n",
    "        return cls.get_schema_definition_as_string(add_subschemas=False)\n",
    "\n",
    "    # def __getattribute__(cls, name: str) -> Column:\n",
    "    #     \"\"\"Python base function that gets attributes.\n",
    "\n",
    "    #     We listen here for anyone getting a ``Column`` from the ``Schema``.\n",
    "    #     Even though they're not explicitely instantiated, we can instantiate\n",
    "    #     them here whenever someone attempts to get them. This allows us to do the following:\n",
    "\n",
    "    #     .. code-block:: python\n",
    "\n",
    "    #         class A(Schema):\n",
    "    #             a: Column[IntegerType]\n",
    "\n",
    "    #         (\n",
    "    #             df.withColumn(A.a.str, lit(1))\n",
    "    #             .select(A.a)\n",
    "    #         )\n",
    "    #     \"\"\"\n",
    "    #     if name.startswith(\"__\") or name == \"_attributes\" or name in cls._attributes:\n",
    "    #         return object.__getattribute__(cls, name)\n",
    "\n",
    "    #     if name in get_type_hints(cls):\n",
    "    #         return Column(\n",
    "    #             name,\n",
    "    #             dtype=cls._get_dtype(name),  # type: ignore\n",
    "    #             parent=cls._parent,\n",
    "    #             curid=cls._current_id,\n",
    "    #         )\n",
    "\n",
    "    #     raise TypeError(f\"Schema {cls.get_schema_name()} does not have attribute {name}.\")\n",
    "\n",
    "    def _get_dtype(cls, name: str) -> Type[DataType]:\n",
    "        \"\"\"Returns the datatype of a column, e.g. Column[IntegerType] -> IntegerType.\"\"\"\n",
    "        column = get_type_hints(cls)[name]\n",
    "        args = get_args(column)\n",
    "\n",
    "        if not args:\n",
    "            raise TypeError(\n",
    "                f\"Column {cls.get_schema_name()}.{name} does not have an annotated type.\"\n",
    "            )\n",
    "\n",
    "        dtype = args[0]\n",
    "        return dtype\n",
    "\n",
    "    def all_column_names(cls) -> List[str]:\n",
    "        \"\"\"Returns all column names for a given schema.\"\"\"\n",
    "        return list(get_type_hints(cls).keys())\n",
    "\n",
    "    def all_column_names_except_for(cls, except_for: List[str]) -> List[str]:\n",
    "        \"\"\"Returns all column names for a given schema except for the columns\n",
    "        specified in the ``except_for`` parameter.\"\"\"\n",
    "        return list(name for name in get_type_hints(cls).keys() if name not in except_for)\n",
    "\n",
    "    def get_snake_case(cls) -> str:\n",
    "        \"\"\"Return the class name transformed into snakecase.\"\"\"\n",
    "        word = cls.get_schema_name()\n",
    "        word = re.sub(r\"([A-Z]+)([A-Z][a-z])\", r\"\\1_\\2\", word)\n",
    "        word = re.sub(r\"([a-z\\d])([A-Z])\", r\"\\1_\\2\", word)\n",
    "        word = word.replace(\"-\", \"_\")\n",
    "        return word.lower()\n",
    "\n",
    "    def get_schema_definition_as_string(\n",
    "        cls,\n",
    "        schema_name: Optional[str] = None,\n",
    "        include_documentation: bool = False,\n",
    "        generate_imports: bool = True,\n",
    "        add_subschemas: bool = True,\n",
    "    ) -> str:\n",
    "        \"\"\"Return the code for the ``Schema`` as a string.\"\"\"\n",
    "        if schema_name is None:\n",
    "            schema_name = cls.get_schema_name()\n",
    "        return get_schema_definition_as_string(\n",
    "            cls,  # type: ignore\n",
    "            include_documentation,\n",
    "            generate_imports,\n",
    "            add_subschemas,\n",
    "            schema_name,\n",
    "        )\n",
    "\n",
    "    def print_schema(\n",
    "        cls,\n",
    "        schema_name: Optional[str] = None,\n",
    "        include_documentation: bool = False,\n",
    "        generate_imports: bool = True,\n",
    "        add_subschemas: bool = False,\n",
    "    ):  # pragma: no cover\n",
    "        \"\"\"Print the code for the ``Schema``.\"\"\"\n",
    "        print(\n",
    "            cls.get_schema_definition_as_string(\n",
    "                schema_name=schema_name,\n",
    "                include_documentation=include_documentation,\n",
    "                generate_imports=generate_imports,\n",
    "                add_subschemas=add_subschemas,\n",
    "            )\n",
    "        )\n",
    "\n",
    "    def get_docstring(cls) -> Union[str, None]:\n",
    "        \"\"\"Returns the docstring of the schema.\"\"\"\n",
    "        return inspect.getdoc(cls)\n",
    "\n",
    "    def get_structtype(cls) -> StructType:\n",
    "        \"\"\"Creates the spark StructType for the schema.\"\"\"\n",
    "        return StructType(\n",
    "            [\n",
    "                get_structfield(name, column)\n",
    "                for name, column in get_type_hints(cls, include_extras=True).items()\n",
    "            ]\n",
    "        )\n",
    "\n",
    "    def get_dlt_kwargs(cls, name: Optional[str] = None) -> DltKwargs:\n",
    "        \"\"\"Creates a representation of the ``Schema`` to be used by Delta Live\n",
    "        Tables.\n",
    "\n",
    "        .. code-block:: python\n",
    "\n",
    "            @dlt.table(**DimPatient.get_dlt_kwargs())\n",
    "            def table_definition() -> DataSet[DimPatient]:\n",
    "                <your table definition here>\n",
    "        \"\"\"\n",
    "        return {\n",
    "            \"name\": name if name else cls.get_snake_case(),\n",
    "            \"comment\": cls.get_docstring(),\n",
    "            \"schema\": cls.get_structtype(),\n",
    "        }\n",
    "\n",
    "    def get_schema_name(cls):\n",
    "        \"\"\"Returns the name with which the schema was initialized.\"\"\"\n",
    "        return cls._original_name if cls._original_name else cls.__name__\n",
    "\n",
    "\n",
    "# class Schema(metaclass=MetaSchema):\n",
    "#     # pylint: disable=missing-class-docstring\n",
    "#     # Since docstrings are inherrited, and since we use docstrings to\n",
    "#     # annotate tables (see MetaSchema.get_dlt_kwargs()), we have chosen\n",
    "#     # to not add a docstring to the Schema class (otherwise the Schema\n",
    "#     # docstring would be added to any schema without a docstring).\n",
    "#     pass\n"
   ]
  },
  {
   "cell_type": "code",
   "execution_count": 4,
   "metadata": {},
   "outputs": [],
   "source": [
    "from typedspark import Column\n",
    "\n",
    "a = MetaSchema(\"Person\", (type,), dict(name=Column(\"hoi\")))"
   ]
  },
  {
   "cell_type": "code",
   "execution_count": 6,
   "metadata": {},
   "outputs": [
    {
     "data": {
      "text/plain": [
       "pyspark.sql.types.DataType"
      ]
     },
     "execution_count": 6,
     "metadata": {},
     "output_type": "execute_result"
    }
   ],
   "source": [
    "a.name.dtype"
   ]
  },
  {
   "cell_type": "code",
   "execution_count": 12,
   "metadata": {},
   "outputs": [],
   "source": [
    "from typedspark._core.column import Column\n",
    "\n",
    "\n",
    "class MetaSchema(type):\n",
    "    pass\n",
    "\n",
    "class Schema(metaclass=MetaSchema):\n",
    "    def __new__(cls, name: str, bases, dct):\n",
    "        # cls._attributes = dir(cls)\n",
    "\n",
    "        # initializes all uninitialied variables with a type annotation as None\n",
    "        # this allows for auto-complete in Databricks notebooks (uninitialized variables\n",
    "        # don't show up in auto-complete there).\n",
    "        if \"__annotations__\" in dct.keys():\n",
    "            extra = {attr: None for attr in dct[\"__annotations__\"] if attr not in dct}\n",
    "            dct = dict(dct, **extra)\n",
    "\n",
    "        return type.__new__(cls, name, bases, dct)\n",
    "\n",
    "a = MetaSchema(\"Person\", (type,), dict(name=Column(\"hoi\")))"
   ]
  },
  {
   "cell_type": "code",
   "execution_count": 9,
   "metadata": {},
   "outputs": [
    {
     "data": {
      "text/plain": [
       "__main__.Person"
      ]
     },
     "execution_count": 9,
     "metadata": {},
     "output_type": "execute_result"
    }
   ],
   "source": [
    "a.name.dtype"
   ]
  },
  {
   "cell_type": "code",
   "execution_count": 1,
   "metadata": {},
   "outputs": [
    {
     "name": "stderr",
     "output_type": "stream",
     "text": [
      "Setting default log level to \"WARN\".\n",
      "To adjust logging level use sc.setLogLevel(newLevel). For SparkR, use setLogLevel(newLevel).\n"
     ]
    },
    {
     "name": "stdout",
     "output_type": "stream",
     "text": [
      "23/06/29 20:03:00 WARN NativeCodeLoader: Unable to load native-hadoop library for your platform... using builtin-java classes where applicable\n",
      "23/06/29 20:03:00 WARN Utils: Service 'SparkUI' could not bind on port 4040. Attempting port 4041.\n"
     ]
    }
   ],
   "source": [
    "from pyspark.sql import SparkSession\n",
    "spark = SparkSession.Builder().config(\"spark.ui.showConsoleProgress\", \"false\").getOrCreate()\n",
    "spark.sparkContext.setLogLevel(\"ERROR\")"
   ]
  },
  {
   "cell_type": "code",
   "execution_count": 2,
   "metadata": {},
   "outputs": [
    {
     "name": "stderr",
     "output_type": "stream",
     "text": [
      "/Users/nanneaben/opt/anaconda3/envs/typedspark/lib/python3.9/site-packages/pyspark/sql/pandas/conversion.py:474: FutureWarning: iteritems is deprecated and will be removed in a future version. Use .items instead.\n",
      "  for column, series in pdf.iteritems():\n",
      "/Users/nanneaben/opt/anaconda3/envs/typedspark/lib/python3.9/site-packages/pyspark/sql/pandas/conversion.py:486: FutureWarning: iteritems is deprecated and will be removed in a future version. Use .items instead.\n",
      "  for column, series in pdf.iteritems():\n"
     ]
    }
   ],
   "source": [
    "import pandas as pd\n",
    "\n",
    "(\n",
    "    spark.createDataFrame(\n",
    "        pd.DataFrame(\n",
    "            dict(\n",
    "                name=[\"Jack\", \"John\", \"Jane\"],\n",
    "                age=[20, 30, 40],\n",
    "            )\n",
    "        )\n",
    "    )\n",
    "    .createOrReplaceTempView(\"person_table\")\n",
    ")"
   ]
  },
  {
   "cell_type": "code",
   "execution_count": 3,
   "metadata": {},
   "outputs": [],
   "source": [
    "from typedspark import load_table\n",
    "\n",
    "df, Person = load_table(spark, \"person_table\")"
   ]
  },
  {
   "cell_type": "code",
   "execution_count": 4,
   "metadata": {},
   "outputs": [
    {
     "data": {
      "text/plain": [
       "pyspark.sql.types.StringType"
      ]
     },
     "execution_count": 4,
     "metadata": {},
     "output_type": "execute_result"
    }
   ],
   "source": [
    "Person.name.dtype"
   ]
  },
  {
   "cell_type": "code",
   "execution_count": 5,
   "metadata": {},
   "outputs": [],
   "source": [
    "from typedspark import Schema, Column, StructType, create_partially_filled_dataset\n",
    "from pyspark.sql.types import IntegerType\n",
    "\n",
    "class Values(Schema):\n",
    "    a: Column[IntegerType]\n",
    "    b: Column[IntegerType]\n",
    "\n",
    "class Container(Schema):\n",
    "    values: Column[StructType[Values]]\n",
    "\n",
    "create_partially_filled_dataset(\n",
    "    spark,\n",
    "    Container,\n",
    "    {\n",
    "        Container.values: create_partially_filled_dataset(\n",
    "            spark,\n",
    "            Values,\n",
    "            {Values.a: [1, 2, 3]},\n",
    "        ).collect(),\n",
    "    }\n",
    ").createOrReplaceTempView(\"structtype_table\")\n",
    "\n",
    "container, ContainerSchema = load_table(spark, \"structtype_table\")"
   ]
  },
  {
   "cell_type": "code",
   "execution_count": 7,
   "metadata": {},
   "outputs": [
    {
     "data": {
      "text/plain": [
       "Column<'values'>"
      ]
     },
     "execution_count": 7,
     "metadata": {},
     "output_type": "execute_result"
    }
   ],
   "source": [
    "ContainerSchema.values"
   ]
  },
  {
   "cell_type": "code",
   "execution_count": 8,
   "metadata": {},
   "outputs": [
    {
     "data": {
      "text/plain": [
       "dict_items([('a', 1), ('b', 2)])"
      ]
     },
     "execution_count": 8,
     "metadata": {},
     "output_type": "execute_result"
    }
   ],
   "source": [
    "dict(a=1, b=2).items()"
   ]
  },
  {
   "cell_type": "code",
   "execution_count": null,
   "metadata": {},
   "outputs": [],
   "source": []
  }
 ],
 "metadata": {
  "kernelspec": {
   "display_name": "typedspark",
   "language": "python",
   "name": "python3"
  },
  "language_info": {
   "codemirror_mode": {
    "name": "ipython",
    "version": 3
   },
   "file_extension": ".py",
   "mimetype": "text/x-python",
   "name": "python",
   "nbconvert_exporter": "python",
   "pygments_lexer": "ipython3",
   "version": "3.9.16"
  },
  "orig_nbformat": 4
 },
 "nbformat": 4,
 "nbformat_minor": 2
}
