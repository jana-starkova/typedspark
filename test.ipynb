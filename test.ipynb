{
 "cells": [
  {
   "cell_type": "code",
   "execution_count": 1,
   "metadata": {},
   "outputs": [
    {
     "name": "stderr",
     "output_type": "stream",
     "text": [
      "Setting default log level to \"WARN\".\n",
      "To adjust logging level use sc.setLogLevel(newLevel). For SparkR, use setLogLevel(newLevel).\n",
      "23/07/03 18:53:46 WARN NativeCodeLoader: Unable to load native-hadoop library for your platform... using builtin-java classes where applicable\n"
     ]
    },
    {
     "name": "stdout",
     "output_type": "stream",
     "text": [
      "+----+\n",
      "| age|\n",
      "+----+\n",
      "|null|\n",
      "|null|\n",
      "|null|\n",
      "+----+\n",
      "\n"
     ]
    },
    {
     "name": "stderr",
     "output_type": "stream",
     "text": [
      "                                                                                \r"
     ]
    }
   ],
   "source": [
    "from typing import Protocol, TypeVar\n",
    "from pyspark.sql import SparkSession\n",
    "from pyspark.sql.types import LongType, StringType\n",
    "from typedspark import Schema, DataSet, Column, PartialDataSet, transform_to_schema, create_empty_dataset\n",
    "\n",
    "class Person(Schema):\n",
    "    name: Column[StringType]\n",
    "    age: Column[LongType]\n",
    "\n",
    "class Age(Schema, Protocol):\n",
    "    type: Column[StringType]\n",
    "\n",
    "def get_age(df: PartialDataSet[Age]) -> DataSet[Age]:\n",
    "    return transform_to_schema(df, Age)\n",
    "\n",
    "spark = SparkSession.builder.getOrCreate()\n",
    "\n",
    "df = create_empty_dataset(spark, Person)\n",
    "get_age(df).show()"
   ]
  },
  {
   "cell_type": "code",
   "execution_count": 2,
   "metadata": {},
   "outputs": [
    {
     "name": "stdout",
     "output_type": "stream",
     "text": [
      "+----+----+\n",
      "|name| age|\n",
      "+----+----+\n",
      "|null|null|\n",
      "|null|null|\n",
      "|null|null|\n",
      "+----+----+\n",
      "\n"
     ]
    }
   ],
   "source": [
    "T = TypeVar(\"T\", bound=Schema)\n",
    "\n",
    "def birthday(df: PartialDataSet[Age], schema: T) -> DataSet[T]:\n",
    "    return transform_to_schema(\n",
    "        df, \n",
    "        schema,  # type: ignore\n",
    "        {Age.age: Age.age + 1}\n",
    "    )\n",
    "\n",
    "res: DataSet[Person] = birthday(df, Person)\n",
    "res.show()"
   ]
  },
  {
   "cell_type": "code",
   "execution_count": 4,
   "metadata": {},
   "outputs": [
    {
     "data": {
      "text/plain": [
       "'Base class for protocol classes.\\n\\nProtocol classes are defined as::\\n\\n    class Proto(Protocol):\\n        def meth(self) -> int:\\n            ...\\n\\nSuch classes are primarily used with static type checkers that recognize\\nstructural subtyping (static duck-typing), for example::\\n\\n    class C:\\n        def meth(self) -> int:\\n            return 0\\n\\n    def func(x: Proto) -> int:\\n        return x.meth()\\n\\n    func(C())  # Passes static type check\\n\\nSee PEP 544 for details. Protocol classes decorated with\\n@typing.runtime_checkable act as simple-minded runtime protocols that check\\nonly the presence of given attributes, ignoring their type signatures.\\nProtocol classes can be generic, they are defined as::\\n\\n    class GenProto(Protocol[T]):\\n        def meth(self) -> T:\\n            ...'"
      ]
     },
     "execution_count": 4,
     "metadata": {},
     "output_type": "execute_result"
    }
   ],
   "source": [
    "Age.get_docstring()"
   ]
  },
  {
   "cell_type": "code",
   "execution_count": null,
   "metadata": {},
   "outputs": [],
   "source": []
  }
 ],
 "metadata": {
  "kernelspec": {
   "display_name": "typedspark",
   "language": "python",
   "name": "python3"
  },
  "language_info": {
   "codemirror_mode": {
    "name": "ipython",
    "version": 3
   },
   "file_extension": ".py",
   "mimetype": "text/x-python",
   "name": "python",
   "nbconvert_exporter": "python",
   "pygments_lexer": "ipython3",
   "version": "3.11.2"
  },
  "orig_nbformat": 4
 },
 "nbformat": 4,
 "nbformat_minor": 2
}
