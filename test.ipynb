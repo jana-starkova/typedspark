{
 "cells": [
  {
   "cell_type": "code",
   "execution_count": 9,
   "metadata": {},
   "outputs": [],
   "source": [
    "from typedspark._core.column import Column\n",
    "\n",
    "\n",
    "class MetaSchema(type):\n",
    "    pass\n",
    "\n",
    "class Schema(metaclass=MetaSchema):\n",
    "    def __new__(cls, name: str, bases, dct):\n",
    "        # cls._attributes = dir(cls)\n",
    "\n",
    "        # initializes all uninitialied variables with a type annotation as None\n",
    "        # this allows for auto-complete in Databricks notebooks (uninitialized variables\n",
    "        # don't show up in auto-complete there).\n",
    "        if \"__annotations__\" in dct.keys():\n",
    "            extra = {attr: None for attr in dct[\"__annotations__\"] if attr not in dct}\n",
    "            dct = dict(dct, **extra)\n",
    "\n",
    "        return type.__new__(cls, name, bases, dct)\n",
    "\n",
    "class Hoi:\n",
    "    a = 1\n",
    "\n",
    "a = MetaSchema(\"Person\", (Schema,), dict(name=Column(\"hoi\")))"
   ]
  },
  {
   "cell_type": "code",
   "execution_count": 2,
   "metadata": {},
   "outputs": [
    {
     "data": {
      "text/plain": [
       "1"
      ]
     },
     "execution_count": 2,
     "metadata": {},
     "output_type": "execute_result"
    }
   ],
   "source": [
    "a.name.dtype"
   ]
  },
  {
   "cell_type": "code",
   "execution_count": 3,
   "metadata": {},
   "outputs": [
    {
     "name": "stderr",
     "output_type": "stream",
     "text": [
      "Setting default log level to \"WARN\".\n",
      "To adjust logging level use sc.setLogLevel(newLevel). For SparkR, use setLogLevel(newLevel).\n"
     ]
    },
    {
     "name": "stdout",
     "output_type": "stream",
     "text": [
      "23/06/29 16:47:24 WARN NativeCodeLoader: Unable to load native-hadoop library for your platform... using builtin-java classes where applicable\n",
      "23/06/29 16:47:24 WARN Utils: Service 'SparkUI' could not bind on port 4040. Attempting port 4041.\n",
      "23/06/29 16:47:24 WARN Utils: Service 'SparkUI' could not bind on port 4041. Attempting port 4042.\n"
     ]
    }
   ],
   "source": [
    "from pyspark.sql import SparkSession\n",
    "spark = SparkSession.Builder().config(\"spark.ui.showConsoleProgress\", \"false\").getOrCreate()\n",
    "spark.sparkContext.setLogLevel(\"ERROR\")"
   ]
  },
  {
   "cell_type": "code",
   "execution_count": 4,
   "metadata": {},
   "outputs": [
    {
     "name": "stderr",
     "output_type": "stream",
     "text": [
      "/Users/nanneaben/opt/anaconda3/envs/typedspark/lib/python3.9/site-packages/pyspark/sql/pandas/conversion.py:474: FutureWarning: iteritems is deprecated and will be removed in a future version. Use .items instead.\n",
      "  for column, series in pdf.iteritems():\n",
      "/Users/nanneaben/opt/anaconda3/envs/typedspark/lib/python3.9/site-packages/pyspark/sql/pandas/conversion.py:486: FutureWarning: iteritems is deprecated and will be removed in a future version. Use .items instead.\n",
      "  for column, series in pdf.iteritems():\n"
     ]
    }
   ],
   "source": [
    "import pandas as pd\n",
    "\n",
    "(\n",
    "    spark.createDataFrame(\n",
    "        pd.DataFrame(\n",
    "            dict(\n",
    "                name=[\"Jack\", \"John\", \"Jane\"],\n",
    "                age=[20, 30, 40],\n",
    "            )\n",
    "        )\n",
    "    )\n",
    "    .createOrReplaceTempView(\"person_table\")\n",
    ")"
   ]
  },
  {
   "cell_type": "code",
   "execution_count": 5,
   "metadata": {},
   "outputs": [],
   "source": [
    "from typedspark import load_table\n",
    "\n",
    "df, Person = load_table(spark, \"person_table\")"
   ]
  },
  {
   "cell_type": "code",
   "execution_count": 6,
   "metadata": {},
   "outputs": [
    {
     "data": {
      "text/plain": [
       "Column<'name'>"
      ]
     },
     "execution_count": 6,
     "metadata": {},
     "output_type": "execute_result"
    }
   ],
   "source": [
    "Person.name"
   ]
  },
  {
   "cell_type": "code",
   "execution_count": 7,
   "metadata": {},
   "outputs": [],
   "source": [
    "from typedspark import Schema, Column, StructType, create_partially_filled_dataset\n",
    "from pyspark.sql.types import IntegerType\n",
    "\n",
    "class Values(Schema):\n",
    "    a: Column[IntegerType]\n",
    "    b: Column[IntegerType]\n",
    "\n",
    "class Container(Schema):\n",
    "    values: Column[StructType[Values]]\n",
    "\n",
    "create_partially_filled_dataset(\n",
    "    spark,\n",
    "    Container,\n",
    "    {\n",
    "        Container.values: create_partially_filled_dataset(\n",
    "            spark,\n",
    "            Values,\n",
    "            {Values.a: [1, 2, 3]},\n",
    "        ).collect(),\n",
    "    }\n",
    ").createOrReplaceTempView(\"structtype_table\")\n",
    "\n",
    "container, ContainerSchema = load_table(spark, \"structtype_table\")"
   ]
  },
  {
   "cell_type": "code",
   "execution_count": 8,
   "metadata": {},
   "outputs": [
    {
     "data": {
      "text/plain": [
       "Column<'values'>"
      ]
     },
     "execution_count": 8,
     "metadata": {},
     "output_type": "execute_result"
    }
   ],
   "source": [
    "ContainerSchema.values"
   ]
  },
  {
   "cell_type": "code",
   "execution_count": null,
   "metadata": {},
   "outputs": [],
   "source": []
  }
 ],
 "metadata": {
  "kernelspec": {
   "display_name": "typedspark",
   "language": "python",
   "name": "python3"
  },
  "language_info": {
   "codemirror_mode": {
    "name": "ipython",
    "version": 3
   },
   "file_extension": ".py",
   "mimetype": "text/x-python",
   "name": "python",
   "nbconvert_exporter": "python",
   "pygments_lexer": "ipython3",
   "version": "3.9.16"
  },
  "orig_nbformat": 4
 },
 "nbformat": 4,
 "nbformat_minor": 2
}
